{
 "cells": [
  {
   "cell_type": "markdown",
   "metadata": {},
   "source": [
    "# <font size=\"15\"> Python #7 </font>\n",
    "## Project 1:  MADlib\n",
    "1. [Preparation](#section1)    \n",
    "2. [Hangman](#section2)  \n",
    "   2.1 [Introduction](#section2.1)  \n",
    "    2.2 [Implementation](#section2.2) \n",
    "\n",
    "## Contact:\n",
    "Email: [Hailey Tran](mailto:hailey.tran@berkeley.edu) \n",
    "\n",
    "\n",
    "What concepts this project covers:\n",
    "1. Strings\n",
    "2. Variables\n",
    "3. While loops\n",
    "4. For loops\n",
    "5. If statements\n",
    "6. Functions \n"
   ]
  },
  {
   "cell_type": "markdown",
   "metadata": {},
   "source": [
    "<a id='section1'></a>\n",
    "# Preparation"
   ]
  },
  {
   "cell_type": "code",
   "execution_count": 2,
   "metadata": {},
   "outputs": [],
   "source": [
    "#Run this cell\n",
    "import time "
   ]
  },
  {
   "cell_type": "markdown",
   "metadata": {},
   "source": [
    "We will only be using one function from the time module: `sleep(seconds)`."
   ]
  },
  {
   "cell_type": "markdown",
   "metadata": {},
   "source": [
    "**Example 1.1** Below is an example of what `sleep(seconds)` does."
   ]
  },
  {
   "cell_type": "code",
   "execution_count": null,
   "metadata": {},
   "outputs": [],
   "source": [
    "print(\"happy\")\n",
    "sleep(5)\n",
    "print(\"birthday!!!\")"
   ]
  },
  {
   "cell_type": "markdown",
   "metadata": {},
   "source": [
    "**Example 1.2** We will also be using the input function that comes with Python! Look below at what it does."
   ]
  },
  {
   "cell_type": "code",
   "execution_count": null,
   "metadata": {},
   "outputs": [],
   "source": [
    "age = input(\"How old are you?\")\n",
    "print(\"Wow! I wish I was \" + age, \".\")"
   ]
  },
  {
   "cell_type": "markdown",
   "metadata": {},
   "source": [
    "You now know everything to complete the project. Have fun and ask questions!"
   ]
  },
  {
   "cell_type": "markdown",
   "metadata": {},
   "source": [
    "<a id='section2'></a>\n",
    "# Hangman "
   ]
  },
  {
   "cell_type": "markdown",
   "metadata": {},
   "source": [
    "The comments starting with `#` will tell you what you need to do in the cell. Read carefully and feel free to look back at previous notebooks if you are stuck."
   ]
  },
  {
   "cell_type": "markdown",
   "metadata": {},
   "source": [
    "<a id='section2.1'></a>\n",
    "### Introduction "
   ]
  },
  {
   "cell_type": "markdown",
   "metadata": {},
   "source": [
    "In this section, you will be welcoming the player and setting your variables for the magic word and how many turns the player has left."
   ]
  },
  {
   "cell_type": "code",
   "execution_count": null,
   "metadata": {},
   "outputs": [],
   "source": [
    "#Welcome the player. Print out \"Hi, *their name*, lets play hangman!\"\n",
    "...\n",
    "...\n",
    "#pause for 2 seconds and then print something to let the player know to start guessing (EX. \"Start guessing..\")\n",
    "...\n",
    "...\n",
    "#pause for 1 second\n",
    "..."
   ]
  },
  {
   "cell_type": "code",
   "execution_count": 18,
   "metadata": {},
   "outputs": [],
   "source": [
    "#create a variable to assign a word for the player to guess.\n",
    "...\n",
    "guesses = ''\n",
    "#create a variable to to assign a number for how many guesses the player has left. \n",
    "..."
   ]
  },
  {
   "cell_type": "markdown",
   "metadata": {},
   "source": [
    "<a id='section2.2'></a>\n",
    "### Implementation "
   ]
  },
  {
   "cell_type": "markdown",
   "metadata": {},
   "source": [
    "In this section, you will be writing the code to actually implement the hangman game. This part will be challenging, but take your time and have fun! I have indented the code for you,so be careful of where you are typing your code."
   ]
  },
  {
   "cell_type": "code",
   "execution_count": null,
   "metadata": {},
   "outputs": [],
   "source": [
    "#Check that while they still have turns/guesses left, you will keep running the code. \n",
    "....\n",
    "    #make a 'failed' variable that starts with 0. \n",
    "    ...\n",
    "    #for every letter in the secret word \n",
    "    ...\n",
    "        #see if the letter is in the player's guess. If it is, print out that character.\n",
    "        ...\n",
    "            ...\n",
    "        #If it is not, print a dash (\"_\") and increase the failed variable by 1\n",
    "        ...\n",
    "            ...\n",
    "            ...\n",
    "    #If failed is equal to 0, print \"You won!\"\n",
    "    ...\n",
    "        ...\n",
    "    #exit the loop \n",
    "        ...\n",
    "\n",
    "\n",
    "    #ask the user to guess a character. Allow for them to type in a letter. \n",
    "    ...\n",
    "    # add their guess to you 'guess' variable that was made in section 1.\n",
    "    ...\n",
    "    # if the guess is not found in the secret word\n",
    "    ...\n",
    "        # the turn variable decreases by 1 \n",
    "        ...\n",
    "        #print \"wrong\"\n",
    "        ...\n",
    "        # print how many turns they have left. It should be in the same format of example 1.2\n",
    "        ...\n",
    "        #if the turns are equal to zero\n",
    "        ...\n",
    "        # print \"You Lose\"\n",
    "            ...\n",
    "            \n",
    "#You are now done!! Run the code and use this to play with your family and friends!"
   ]
  }
 ],
 "metadata": {
  "kernelspec": {
   "display_name": "Python 3",
   "language": "python",
   "name": "python3"
  },
  "language_info": {
   "codemirror_mode": {
    "name": "ipython",
    "version": 3
   },
   "file_extension": ".py",
   "mimetype": "text/x-python",
   "name": "python",
   "nbconvert_exporter": "python",
   "pygments_lexer": "ipython3",
   "version": "3.6.9"
  }
 },
 "nbformat": 4,
 "nbformat_minor": 4
}
